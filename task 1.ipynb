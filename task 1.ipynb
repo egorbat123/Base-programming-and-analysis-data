{
 "cells": [
  {
   "cell_type": "code",
   "execution_count": 6,
   "metadata": {
    "_cell_guid": "b1076dfc-b9ad-4769-8c92-a6c4dae69d19",
    "_uuid": "8f2839f25d086af736a60e9eeb907d3b93b6e0e5",
    "execution": {
     "iopub.execute_input": "2022-03-13T17:15:29.105781Z",
     "iopub.status.busy": "2022-03-13T17:15:29.104764Z",
     "iopub.status.idle": "2022-03-13T17:15:29.113408Z",
     "shell.execute_reply": "2022-03-13T17:15:29.112465Z",
     "shell.execute_reply.started": "2022-03-13T17:15:29.105712Z"
    }
   },
   "outputs": [],
   "source": [
    "import numpy as np\n",
    "import pandas as pd "
   ]
  },
  {
   "cell_type": "markdown",
   "metadata": {},
   "source": [
    "# Программирование"
   ]
  },
  {
   "cell_type": "code",
   "execution_count": 7,
   "metadata": {
    "execution": {
     "iopub.execute_input": "2022-03-13T17:15:29.116208Z",
     "iopub.status.busy": "2022-03-13T17:15:29.115237Z",
     "iopub.status.idle": "2022-03-13T17:15:29.128121Z",
     "shell.execute_reply": "2022-03-13T17:15:29.127164Z",
     "shell.execute_reply.started": "2022-03-13T17:15:29.116160Z"
    }
   },
   "outputs": [
    {
     "name": "stdout",
     "output_type": "stream",
     "text": [
      "1\n",
      "-1\n",
      "0\n"
     ]
    }
   ],
   "source": [
    "# №1\n",
    "def version_cmpr(ver1, ver2):\n",
    "    ver1_list = list(map(int, ver1.split(sep='.')))\n",
    "    ver2_list = list(map(int, ver2.split(sep='.')))\n",
    "    \n",
    "    for i in range(len(ver1_list)):\n",
    "        if ver1_list[i] > ver2_list[i]:\n",
    "            return 1\n",
    "        elif ver1_list[i] < ver2_list[i]:\n",
    "            return -1\n",
    "    return 0\n",
    "        \n",
    "print(version_cmpr('1.2.2', '1.2.0'))\n",
    "print(version_cmpr('1.0.5', '1.1.0'))\n",
    "print(version_cmpr('1.0.5', '1.00.05'))"
   ]
  },
  {
   "cell_type": "code",
   "execution_count": 8,
   "metadata": {
    "execution": {
     "iopub.execute_input": "2022-03-13T17:15:29.129564Z",
     "iopub.status.busy": "2022-03-13T17:15:29.129336Z",
     "iopub.status.idle": "2022-03-13T17:15:29.141321Z",
     "shell.execute_reply": "2022-03-13T17:15:29.140167Z",
     "shell.execute_reply.started": "2022-03-13T17:15:29.129537Z"
    }
   },
   "outputs": [
    {
     "name": "stdout",
     "output_type": "stream",
     "text": [
      "[1, 4, 9, 16, 25, 36]\n",
      "[0, 0, 1, 4, 9, 16]\n"
     ]
    }
   ],
   "source": [
    "# №2\n",
    "def sorting_squared(lst):\n",
    "    \n",
    "    left = 0\n",
    "    right = len(lst) - 1\n",
    "\n",
    "    ans = []\n",
    "    \n",
    "    while left <= right:\n",
    "        if lst[left] ** 2 > lst[right] ** 2:\n",
    "            ans.append(lst[left] ** 2)\n",
    "            left += 1\n",
    "        else:\n",
    "            ans.append(lst[right] ** 2)\n",
    "            right -= 1\n",
    "    ans.reverse()\n",
    "    return ans\n",
    "    \n",
    "lst1 = [-6, -4, -1, 2, 3, 5]\n",
    "lst2 = [-2, -1, 0, 0, 3, 4]\n",
    "print(sorting_squared(lst1))\n",
    "print(sorting_squared(lst2))"
   ]
  },
  {
   "cell_type": "code",
   "execution_count": 9,
   "metadata": {
    "execution": {
     "iopub.execute_input": "2022-03-13T17:26:26.700494Z",
     "iopub.status.busy": "2022-03-13T17:26:26.700053Z",
     "iopub.status.idle": "2022-03-13T17:26:26.721177Z",
     "shell.execute_reply": "2022-03-13T17:26:26.720055Z",
     "shell.execute_reply.started": "2022-03-13T17:26:26.700461Z"
    }
   },
   "outputs": [],
   "source": [
    "# №3\n",
    "def solution(N, M, K, x, y): # x и y - координаты, [0, N] [0, M] не включая M и N\n",
    "    dx = np.array([2, 1, -1, -2, -2, -1, 1, 2])  # шаги коня по x и y из текущей точки\n",
    "    dy = np.array([1, 2, 2, 1, -1, -2, -2, -1])\n",
    "\n",
    "    place_x = [i for i in range(N)]   # координаты поля\n",
    "    place_y = [i for i in range(M)]\n",
    "    \n",
    "    start_matrix = np.ones([N, M])\n",
    "    \n",
    "    prob = np.ones([K+1, N, M])   # матрица из К+1 слоёв, для каждого шага коня,\n",
    "                                  # где каждый слой - таблица N на M. Изначально определена единицами.\n",
    "                                  # Каждая ячейка К+1-го слоя таблицы означает вероятность для точки на шахматной доске  \n",
    "                                  # с такими же координатами, как и у ячейки, того, \n",
    "                                  # что конь не убежит с поля из этой точки на К-м шаге.\n",
    "    for k in range(K):  # цикл по шагам К\n",
    "        for i in range(N): # цикл по шагам по x\n",
    "            for j in range(M): # цикл по шагам по y\n",
    "                \n",
    "                step_prob = 0 #  вероятность того, что конь не убежит с поля из текущей точки i j.\n",
    "                \n",
    "                curr_x = i + dx  # списки возможных шагов для коня\n",
    "                curr_y = j + dy\n",
    "\n",
    "                in_place_x = np.array([int(point in place_x) for point in curr_x])  # списки из 0 и 1 для каждой оси,\n",
    "                in_place_y = np.array([int(point in place_y) for point in curr_y])  # не выбежал ли конь из неё.\n",
    "                                                                                    # точки, не принадлежащие оси = 0\n",
    "                mask = in_place_x * in_place_y  # маска, в которой нули означают, что точка не принадлежит доске.                \n",
    "\n",
    "                well_point_idx = np.where(mask == 1) # индексы точек, принадлежащих доске\n",
    "                \n",
    "                well_x = curr_x[well_point_idx]  # координаты точек, принадлежащих доске\n",
    "                well_y = curr_y[well_point_idx]\n",
    "                \n",
    "                probs = []                    # список вероятностей для принадлежащих доске точек\n",
    "                \n",
    "                for p in range(len(well_x)):      # цикл по точкам, принадлежащим доске\n",
    "                    probs.append(prob[k][well_x[p]][well_y[p]]) # prob[k][well_x[p]][well_y[p]] - вероятность, попасть\n",
    "                                                                # из p-той точки на точку, также принадлежащую доске\n",
    "                \n",
    "                step_prob = sum(np.array(probs) / 8.) # делим каждую p-тую prob[k][well_x[p]][well_y[p]] на 8, так как\n",
    "                                                      # вероятность попасть в именно эту p-тую точку за один шаг =1/8.\n",
    "                prob[k + 1][i][j] = step_prob \n",
    "\n",
    "                if k == K - 1:\n",
    "                    in_start_x = np.array([int(point == x) for point in curr_x])\n",
    "                    in_start_y = np.array([int(point == y) for point in curr_y])\n",
    "\n",
    "                    mask_start = in_start_x * in_start_y\n",
    "\n",
    "                    well_point_start_idx = np.where(mask_start == 1)\n",
    "\n",
    "                    well_start_x = curr_x[well_point_start_idx]\n",
    "                    well_start_y = curr_y[well_point_start_idx]\n",
    "                    \n",
    "                    starts = []\n",
    "                    \n",
    "                    for s in range(len(well_start_x)):\n",
    "                        starts.append(prob[k][well_start_x[s]][well_start_y[s]])\n",
    "\n",
    "                    start_prob = sum(np.array(starts) / 8.)\n",
    "                    \n",
    "                    start_matrix[i][j] = start_prob\n",
    "                    \n",
    "    if K % 2 == 0:            \n",
    "        task_b = np.max(start_matrix)\n",
    "    else:\n",
    "        task_b = 0\n",
    "    return prob[K][x, y], task_b\n"
   ]
  },
  {
   "cell_type": "code",
   "execution_count": 10,
   "metadata": {
    "execution": {
     "iopub.execute_input": "2022-03-13T17:28:59.415975Z",
     "iopub.status.busy": "2022-03-13T17:28:59.415098Z",
     "iopub.status.idle": "2022-03-13T17:28:59.434294Z",
     "shell.execute_reply": "2022-03-13T17:28:59.433032Z",
     "shell.execute_reply.started": "2022-03-13T17:28:59.415906Z"
    }
   },
   "outputs": [
    {
     "name": "stdout",
     "output_type": "stream",
     "text": [
      "Вероятность того, что конь останется на шахматной доске: 0.1875\n",
      "конь окажется в той же стартовой клетке (x,y): 0.03125\n"
     ]
    }
   ],
   "source": [
    "task_a, task_b = solution(8, 8, 2, 0, 0)\n",
    "print('Вероятность того, что конь останется на шахматной доске:', task_a)\n",
    "print('конь окажется в той же стартовой клетке (x,y):', task_b)"
   ]
  }
 ],
 "metadata": {
  "kernelspec": {
   "display_name": "Python 3",
   "language": "python",
   "name": "python3"
  },
  "language_info": {
   "codemirror_mode": {
    "name": "ipython",
    "version": 3
   },
   "file_extension": ".py",
   "mimetype": "text/x-python",
   "name": "python",
   "nbconvert_exporter": "python",
   "pygments_lexer": "ipython3",
   "version": "3.7.4"
  }
 },
 "nbformat": 4,
 "nbformat_minor": 4
}
